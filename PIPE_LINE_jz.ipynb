{
  "nbformat": 4,
  "nbformat_minor": 0,
  "metadata": {
    "colab": {
      "provenance": [],
      "include_colab_link": true
    },
    "kernelspec": {
      "display_name": "Python 3",
      "language": "python",
      "name": "python3"
    },
    "language_info": {
      "codemirror_mode": {
        "name": "ipython",
        "version": 3
      },
      "file_extension": ".py",
      "mimetype": "text/x-python",
      "name": "python",
      "nbconvert_exporter": "python",
      "pygments_lexer": "ipython3",
      "version": "3.8.3"
    }
  },
  "cells": [
    {
      "cell_type": "markdown",
      "metadata": {
        "id": "view-in-github",
        "colab_type": "text"
      },
      "source": [
        "<a href=\"https://colab.research.google.com/github/Joelzr01/Aprendizaje-Supervisado/blob/main/PIPE_LINE_jz.ipynb\" target=\"_parent\"><img src=\"https://colab.research.google.com/assets/colab-badge.svg\" alt=\"Open In Colab\"/></a>"
      ]
    },
    {
      "cell_type": "markdown",
      "metadata": {
        "id": "KdUFcDsdzRyw"
      },
      "source": [
        "# Clonamos el repositorio para obtener los dataSet"
      ]
    },
    {
      "cell_type": "code",
      "metadata": {
        "id": "mHReFf3_y9ms"
      },
      "source": [
        "!git clone https://github.com/joanby/machinelearning-az.git"
      ],
      "execution_count": null,
      "outputs": []
    },
    {
      "cell_type": "markdown",
      "metadata": {
        "id": "vNKZXgtKzU2x"
      },
      "source": [
        "# Damos acceso a nuestro Drive"
      ]
    },
    {
      "cell_type": "code",
      "metadata": {
        "colab": {
          "base_uri": "https://localhost:8080/"
        },
        "id": "5gu7KWnzzUQ0",
        "outputId": "e208a5f6-a238-4dfc-b95d-94f3b99500f8"
      },
      "source": [
        "from google.colab import drive\n",
        "drive.mount('/content/drive')"
      ],
      "execution_count": null,
      "outputs": [
        {
          "output_type": "stream",
          "name": "stdout",
          "text": [
            "Mounted at /content/drive\n"
          ]
        }
      ]
    },
    {
      "cell_type": "markdown",
      "metadata": {
        "id": "1gUxIkHWzfHV"
      },
      "source": [
        "# Test it"
      ]
    },
    {
      "cell_type": "markdown",
      "metadata": {
        "id": "mHsK36uN0XB-"
      },
      "source": [
        "# Google colab tools"
      ]
    },
    {
      "cell_type": "markdown",
      "metadata": {
        "id": "uab9OAbV8hYN"
      },
      "source": [
        "# Instalar dependendias"
      ]
    },
    {
      "cell_type": "markdown",
      "metadata": {
        "id": "3yFpBwmNz70v"
      },
      "source": [
        "# Kernel SVM"
      ]
    },
    {
      "cell_type": "markdown",
      "metadata": {
        "id": "v8OxSXXSz-OP"
      },
      "source": [
        "# Cómo importar las librerías\n"
      ]
    },
    {
      "cell_type": "code",
      "metadata": {
        "id": "edZX51YLzs59"
      },
      "source": [
        "import numpy as np\n",
        "import matplotlib.pyplot as plt\n",
        "import pandas as pd"
      ],
      "execution_count": null,
      "outputs": []
    },
    {
      "cell_type": "markdown",
      "metadata": {
        "id": "8XfXlqtF0B58"
      },
      "source": [
        "# Importar el data set\n"
      ]
    },
    {
      "cell_type": "code",
      "metadata": {
        "id": "-nnozsHsz_-N"
      },
      "source": [
        "dataset = pd.read_csv('/content/drive/My Drive/Colab Notebooks/IA/Social_Network_Ads.csv')\n",
        "X = dataset.iloc[:, [2,3]].values\n",
        "y = dataset.iloc[:, 4].values"
      ],
      "execution_count": null,
      "outputs": []
    },
    {
      "cell_type": "code",
      "metadata": {
        "colab": {
          "base_uri": "https://localhost:8080/",
          "height": 206
        },
        "id": "NFn3_ZY4KkIB",
        "outputId": "db8574ad-e0e9-41bd-b4aa-2733d4d48469"
      },
      "source": [
        "dataset.head()"
      ],
      "execution_count": null,
      "outputs": [
        {
          "output_type": "execute_result",
          "data": {
            "text/plain": [
              "    User ID  Gender   Age  EstimatedSalary  Purchased\n",
              "0  15624510    Male  19.0          19000.0          0\n",
              "1  15810944    Male  35.0          20000.0          0\n",
              "2  15668575  Female  26.0          43000.0          0\n",
              "3  15603246  Female  27.0          57000.0          0\n",
              "4  15804002    Male  19.0          76000.0          0"
            ],
            "text/html": [
              "\n",
              "  <div id=\"df-843bfa75-5588-4576-a176-72d0a372f8f1\" class=\"colab-df-container\">\n",
              "    <div>\n",
              "<style scoped>\n",
              "    .dataframe tbody tr th:only-of-type {\n",
              "        vertical-align: middle;\n",
              "    }\n",
              "\n",
              "    .dataframe tbody tr th {\n",
              "        vertical-align: top;\n",
              "    }\n",
              "\n",
              "    .dataframe thead th {\n",
              "        text-align: right;\n",
              "    }\n",
              "</style>\n",
              "<table border=\"1\" class=\"dataframe\">\n",
              "  <thead>\n",
              "    <tr style=\"text-align: right;\">\n",
              "      <th></th>\n",
              "      <th>User ID</th>\n",
              "      <th>Gender</th>\n",
              "      <th>Age</th>\n",
              "      <th>EstimatedSalary</th>\n",
              "      <th>Purchased</th>\n",
              "    </tr>\n",
              "  </thead>\n",
              "  <tbody>\n",
              "    <tr>\n",
              "      <th>0</th>\n",
              "      <td>15624510</td>\n",
              "      <td>Male</td>\n",
              "      <td>19.0</td>\n",
              "      <td>19000.0</td>\n",
              "      <td>0</td>\n",
              "    </tr>\n",
              "    <tr>\n",
              "      <th>1</th>\n",
              "      <td>15810944</td>\n",
              "      <td>Male</td>\n",
              "      <td>35.0</td>\n",
              "      <td>20000.0</td>\n",
              "      <td>0</td>\n",
              "    </tr>\n",
              "    <tr>\n",
              "      <th>2</th>\n",
              "      <td>15668575</td>\n",
              "      <td>Female</td>\n",
              "      <td>26.0</td>\n",
              "      <td>43000.0</td>\n",
              "      <td>0</td>\n",
              "    </tr>\n",
              "    <tr>\n",
              "      <th>3</th>\n",
              "      <td>15603246</td>\n",
              "      <td>Female</td>\n",
              "      <td>27.0</td>\n",
              "      <td>57000.0</td>\n",
              "      <td>0</td>\n",
              "    </tr>\n",
              "    <tr>\n",
              "      <th>4</th>\n",
              "      <td>15804002</td>\n",
              "      <td>Male</td>\n",
              "      <td>19.0</td>\n",
              "      <td>76000.0</td>\n",
              "      <td>0</td>\n",
              "    </tr>\n",
              "  </tbody>\n",
              "</table>\n",
              "</div>\n",
              "    <div class=\"colab-df-buttons\">\n",
              "\n",
              "  <div class=\"colab-df-container\">\n",
              "    <button class=\"colab-df-convert\" onclick=\"convertToInteractive('df-843bfa75-5588-4576-a176-72d0a372f8f1')\"\n",
              "            title=\"Convert this dataframe to an interactive table.\"\n",
              "            style=\"display:none;\">\n",
              "\n",
              "  <svg xmlns=\"http://www.w3.org/2000/svg\" height=\"24px\" viewBox=\"0 -960 960 960\">\n",
              "    <path d=\"M120-120v-720h720v720H120Zm60-500h600v-160H180v160Zm220 220h160v-160H400v160Zm0 220h160v-160H400v160ZM180-400h160v-160H180v160Zm440 0h160v-160H620v160ZM180-180h160v-160H180v160Zm440 0h160v-160H620v160Z\"/>\n",
              "  </svg>\n",
              "    </button>\n",
              "\n",
              "  <style>\n",
              "    .colab-df-container {\n",
              "      display:flex;\n",
              "      gap: 12px;\n",
              "    }\n",
              "\n",
              "    .colab-df-convert {\n",
              "      background-color: #E8F0FE;\n",
              "      border: none;\n",
              "      border-radius: 50%;\n",
              "      cursor: pointer;\n",
              "      display: none;\n",
              "      fill: #1967D2;\n",
              "      height: 32px;\n",
              "      padding: 0 0 0 0;\n",
              "      width: 32px;\n",
              "    }\n",
              "\n",
              "    .colab-df-convert:hover {\n",
              "      background-color: #E2EBFA;\n",
              "      box-shadow: 0px 1px 2px rgba(60, 64, 67, 0.3), 0px 1px 3px 1px rgba(60, 64, 67, 0.15);\n",
              "      fill: #174EA6;\n",
              "    }\n",
              "\n",
              "    .colab-df-buttons div {\n",
              "      margin-bottom: 4px;\n",
              "    }\n",
              "\n",
              "    [theme=dark] .colab-df-convert {\n",
              "      background-color: #3B4455;\n",
              "      fill: #D2E3FC;\n",
              "    }\n",
              "\n",
              "    [theme=dark] .colab-df-convert:hover {\n",
              "      background-color: #434B5C;\n",
              "      box-shadow: 0px 1px 3px 1px rgba(0, 0, 0, 0.15);\n",
              "      filter: drop-shadow(0px 1px 2px rgba(0, 0, 0, 0.3));\n",
              "      fill: #FFFFFF;\n",
              "    }\n",
              "  </style>\n",
              "\n",
              "    <script>\n",
              "      const buttonEl =\n",
              "        document.querySelector('#df-843bfa75-5588-4576-a176-72d0a372f8f1 button.colab-df-convert');\n",
              "      buttonEl.style.display =\n",
              "        google.colab.kernel.accessAllowed ? 'block' : 'none';\n",
              "\n",
              "      async function convertToInteractive(key) {\n",
              "        const element = document.querySelector('#df-843bfa75-5588-4576-a176-72d0a372f8f1');\n",
              "        const dataTable =\n",
              "          await google.colab.kernel.invokeFunction('convertToInteractive',\n",
              "                                                    [key], {});\n",
              "        if (!dataTable) return;\n",
              "\n",
              "        const docLinkHtml = 'Like what you see? Visit the ' +\n",
              "          '<a target=\"_blank\" href=https://colab.research.google.com/notebooks/data_table.ipynb>data table notebook</a>'\n",
              "          + ' to learn more about interactive tables.';\n",
              "        element.innerHTML = '';\n",
              "        dataTable['output_type'] = 'display_data';\n",
              "        await google.colab.output.renderOutput(dataTable, element);\n",
              "        const docLink = document.createElement('div');\n",
              "        docLink.innerHTML = docLinkHtml;\n",
              "        element.appendChild(docLink);\n",
              "      }\n",
              "    </script>\n",
              "  </div>\n",
              "\n",
              "\n",
              "<div id=\"df-9cf0f23a-0c94-423f-b33c-515bb66f1626\">\n",
              "  <button class=\"colab-df-quickchart\" onclick=\"quickchart('df-9cf0f23a-0c94-423f-b33c-515bb66f1626')\"\n",
              "            title=\"Suggest charts\"\n",
              "            style=\"display:none;\">\n",
              "\n",
              "<svg xmlns=\"http://www.w3.org/2000/svg\" height=\"24px\"viewBox=\"0 0 24 24\"\n",
              "     width=\"24px\">\n",
              "    <g>\n",
              "        <path d=\"M19 3H5c-1.1 0-2 .9-2 2v14c0 1.1.9 2 2 2h14c1.1 0 2-.9 2-2V5c0-1.1-.9-2-2-2zM9 17H7v-7h2v7zm4 0h-2V7h2v10zm4 0h-2v-4h2v4z\"/>\n",
              "    </g>\n",
              "</svg>\n",
              "  </button>\n",
              "\n",
              "<style>\n",
              "  .colab-df-quickchart {\n",
              "      --bg-color: #E8F0FE;\n",
              "      --fill-color: #1967D2;\n",
              "      --hover-bg-color: #E2EBFA;\n",
              "      --hover-fill-color: #174EA6;\n",
              "      --disabled-fill-color: #AAA;\n",
              "      --disabled-bg-color: #DDD;\n",
              "  }\n",
              "\n",
              "  [theme=dark] .colab-df-quickchart {\n",
              "      --bg-color: #3B4455;\n",
              "      --fill-color: #D2E3FC;\n",
              "      --hover-bg-color: #434B5C;\n",
              "      --hover-fill-color: #FFFFFF;\n",
              "      --disabled-bg-color: #3B4455;\n",
              "      --disabled-fill-color: #666;\n",
              "  }\n",
              "\n",
              "  .colab-df-quickchart {\n",
              "    background-color: var(--bg-color);\n",
              "    border: none;\n",
              "    border-radius: 50%;\n",
              "    cursor: pointer;\n",
              "    display: none;\n",
              "    fill: var(--fill-color);\n",
              "    height: 32px;\n",
              "    padding: 0;\n",
              "    width: 32px;\n",
              "  }\n",
              "\n",
              "  .colab-df-quickchart:hover {\n",
              "    background-color: var(--hover-bg-color);\n",
              "    box-shadow: 0 1px 2px rgba(60, 64, 67, 0.3), 0 1px 3px 1px rgba(60, 64, 67, 0.15);\n",
              "    fill: var(--button-hover-fill-color);\n",
              "  }\n",
              "\n",
              "  .colab-df-quickchart-complete:disabled,\n",
              "  .colab-df-quickchart-complete:disabled:hover {\n",
              "    background-color: var(--disabled-bg-color);\n",
              "    fill: var(--disabled-fill-color);\n",
              "    box-shadow: none;\n",
              "  }\n",
              "\n",
              "  .colab-df-spinner {\n",
              "    border: 2px solid var(--fill-color);\n",
              "    border-color: transparent;\n",
              "    border-bottom-color: var(--fill-color);\n",
              "    animation:\n",
              "      spin 1s steps(1) infinite;\n",
              "  }\n",
              "\n",
              "  @keyframes spin {\n",
              "    0% {\n",
              "      border-color: transparent;\n",
              "      border-bottom-color: var(--fill-color);\n",
              "      border-left-color: var(--fill-color);\n",
              "    }\n",
              "    20% {\n",
              "      border-color: transparent;\n",
              "      border-left-color: var(--fill-color);\n",
              "      border-top-color: var(--fill-color);\n",
              "    }\n",
              "    30% {\n",
              "      border-color: transparent;\n",
              "      border-left-color: var(--fill-color);\n",
              "      border-top-color: var(--fill-color);\n",
              "      border-right-color: var(--fill-color);\n",
              "    }\n",
              "    40% {\n",
              "      border-color: transparent;\n",
              "      border-right-color: var(--fill-color);\n",
              "      border-top-color: var(--fill-color);\n",
              "    }\n",
              "    60% {\n",
              "      border-color: transparent;\n",
              "      border-right-color: var(--fill-color);\n",
              "    }\n",
              "    80% {\n",
              "      border-color: transparent;\n",
              "      border-right-color: var(--fill-color);\n",
              "      border-bottom-color: var(--fill-color);\n",
              "    }\n",
              "    90% {\n",
              "      border-color: transparent;\n",
              "      border-bottom-color: var(--fill-color);\n",
              "    }\n",
              "  }\n",
              "</style>\n",
              "\n",
              "  <script>\n",
              "    async function quickchart(key) {\n",
              "      const quickchartButtonEl =\n",
              "        document.querySelector('#' + key + ' button');\n",
              "      quickchartButtonEl.disabled = true;  // To prevent multiple clicks.\n",
              "      quickchartButtonEl.classList.add('colab-df-spinner');\n",
              "      try {\n",
              "        const charts = await google.colab.kernel.invokeFunction(\n",
              "            'suggestCharts', [key], {});\n",
              "      } catch (error) {\n",
              "        console.error('Error during call to suggestCharts:', error);\n",
              "      }\n",
              "      quickchartButtonEl.classList.remove('colab-df-spinner');\n",
              "      quickchartButtonEl.classList.add('colab-df-quickchart-complete');\n",
              "    }\n",
              "    (() => {\n",
              "      let quickchartButtonEl =\n",
              "        document.querySelector('#df-9cf0f23a-0c94-423f-b33c-515bb66f1626 button');\n",
              "      quickchartButtonEl.style.display =\n",
              "        google.colab.kernel.accessAllowed ? 'block' : 'none';\n",
              "    })();\n",
              "  </script>\n",
              "</div>\n",
              "    </div>\n",
              "  </div>\n"
            ]
          },
          "metadata": {},
          "execution_count": 5
        }
      ]
    },
    {
      "cell_type": "markdown",
      "metadata": {
        "id": "SsVEdPzf4XmV"
      },
      "source": [
        "# Dividir el data set en conjunto de entrenamiento y conjunto de testing\n"
      ]
    },
    {
      "cell_type": "code",
      "source": [],
      "metadata": {
        "id": "hsnwqVzCshzv"
      },
      "execution_count": null,
      "outputs": []
    },
    {
      "cell_type": "code",
      "metadata": {
        "id": "v9CtwK834bjy"
      },
      "source": [
        "from sklearn.model_selection import train_test_split\n",
        "X_train, X_test, y_train, y_test = train_test_split(X, y, test_size = 0.25, random_state = 0)"
      ],
      "execution_count": null,
      "outputs": []
    },
    {
      "cell_type": "markdown",
      "metadata": {
        "id": "5AH_uCEz68rb"
      },
      "source": [
        "# Escalado de variables"
      ]
    },
    {
      "cell_type": "code",
      "metadata": {
        "id": "oeuAy8LI69vi"
      },
      "source": [
        "from sklearn.preprocessing import StandardScaler\n",
        "sc_X = StandardScaler()\n",
        "X_train = sc_X.fit_transform(X_train)\n",
        "X_test = sc_X.transform(X_test)"
      ],
      "execution_count": null,
      "outputs": []
    },
    {
      "cell_type": "code",
      "source": [
        "dictionary={'indice1':'funcion1',\n",
        "            'indice2':'funcion2',\n",
        "            'indice3':'funcion2'\n",
        "            }"
      ],
      "metadata": {
        "id": "qNh3C_vbQxMc"
      },
      "execution_count": null,
      "outputs": []
    },
    {
      "cell_type": "code",
      "source": [
        "for indice, valor in dictionary.items():\n",
        "  print(indice, valor)"
      ],
      "metadata": {
        "colab": {
          "base_uri": "https://localhost:8080/"
        },
        "id": "RfMvtknHQ26k",
        "outputId": "c32c15ea-d129-4abc-a2c8-640d69ed9f75"
      },
      "execution_count": null,
      "outputs": [
        {
          "output_type": "stream",
          "name": "stdout",
          "text": [
            "indice1 funcion1\n",
            "indice2 funcion2\n",
            "indice3 funcion2\n"
          ]
        }
      ]
    },
    {
      "cell_type": "code",
      "source": [
        "\n",
        "\n",
        "from sklearn import preprocessing\n",
        "import sklearn.metrics as metrics\n",
        "from sklearn.model_selection import cross_val_predict, cross_val_score, train_test_split, KFold\n",
        "from sklearn.model_selection import KFold\n",
        "from sklearn.svm import SVC\n",
        "from sklearn.linear_model import LogisticRegression\n",
        "from sklearn.tree import DecisionTreeClassifier\n",
        "from sklearn.ensemble import RandomForestClassifier\n",
        "from sklearn.neighbors import KNeighborsClassifier\n",
        "from sklearn.naive_bayes import GaussianNB\n",
        "from tabulate import tabulate\n",
        "\n",
        "#funcion para evaluar metricas\n",
        "def evaluacion(y_true, y_pred, metricas):\n",
        "  res = {}\n",
        "  for nombre, funcion in metricas.items():\n",
        "    res[nombre] = funcion(y_true, y_pred)\n",
        "    # res[nombre] = np.round(funcion(y_true, y_pred),4)\n",
        "  return res\n",
        "\n",
        "#Se crea un diccionario con los algoritmos a evaluar\n",
        "algoritmos = {\n",
        "              'Logistic Regression': LogisticRegression(random_state=42),\n",
        "              'Descition Tree': DecisionTreeClassifier(criterion='entropy', random_state=42),\n",
        "              'SVM': SVC(kernel = \"rbf\", C=10, random_state=42, probability=True),\n",
        "              'Random Forest': RandomForestClassifier(n_estimators = 100, criterion = \"entropy\", random_state = 42),\n",
        "              'KNN': KNeighborsClassifier(n_neighbors = 5, metric = \"minkowski\", p = 2),\n",
        "              'Naive Bayes': GaussianNB(),\n",
        "              }\n",
        "\n",
        "\n",
        "#funcion para evaluar metricas\n",
        "def evaluacion(y_true, y_pred, metricas):\n",
        "    res = {}\n",
        "    for nombre, funcion in metricas.items():\n",
        "        res[nombre] = np.round(funcion(y_true, y_pred),4)\n",
        "    return res\n",
        "\n",
        "k=5\n",
        "\n",
        "metricas = {\n",
        "  'ACC':    metrics.accuracy_score,\n",
        "  'PREC':   lambda y_true, y_pred:\n",
        "            metrics.precision_score(y_true, y_pred, average='macro'),\n",
        "  'RECALL': lambda y_true, y_pred:\n",
        "            metrics.recall_score(y_true, y_pred, average='macro'),\n",
        "  'ROC':    lambda y_true, y_pred:\n",
        "            metrics.roc_auc_score(y_true, y_pred, average='macro'),\n",
        "  'F1':     lambda y_true, y_pred:\n",
        "            metrics.f1_score(y_true, y_pred, average='macro'),\n",
        "  'MSE':    lambda y_true, y_pred:\n",
        "            metrics.mean_squared_error(y_true, y_pred),\n",
        "  'MAE':    lambda y_true, y_pred:\n",
        "            metrics.mean_absolute_error(y_true, y_pred)\n",
        "}\n",
        "\n",
        "y_pred = {}\n",
        "headers = ['METRICS']\n",
        "ACC,PREC,RECALL,F1,ROC,MSE,MAE = ['ACCURACY'],['PRECISION'],['RECALL'],['F1'],['ROC'],['MSE'],['MAE']\n",
        "\n",
        "for nombre, alg in algoritmos.items():\n",
        "    y_pred[nombre] = cross_val_predict(alg, X_train, y_train, cv=KFold(n_splits=k, shuffle=True, random_state=42))\n",
        "    results = evaluacion(y_train, y_pred[nombre], metricas)\n",
        "    headers.append(nombre)\n",
        "    ACC.append(results['ACC'])\n",
        "    PREC.append(results['PREC'])\n",
        "    RECALL.append(results['RECALL'])\n",
        "    F1.append(results['F1'])\n",
        "    ROC.append(results['ROC'])\n",
        "    MSE.append(results['MSE'])\n",
        "    MAE.append(results['MAE'])\n",
        "\n",
        "my_data = [tuple(ACC), tuple(PREC), tuple(RECALL), tuple(F1), tuple(ROC), tuple(MSE), tuple(MAE)]\n",
        "print(tabulate(my_data, headers=headers))\n"
      ],
      "metadata": {
        "colab": {
          "base_uri": "https://localhost:8080/"
        },
        "id": "ttn6zKohuE1n",
        "outputId": "0d6dd8f1-ee4c-43ae-96c3-7e37eba8cde8"
      },
      "execution_count": null,
      "outputs": [
        {
          "output_type": "stream",
          "name": "stdout",
          "text": [
            "METRICS      Logistic Regression    Descition Tree     SVM    Random Forest     KNN    Naive Bayes\n",
            "---------  ---------------------  ----------------  ------  ---------------  ------  -------------\n",
            "ACCURACY                  0.8333            0.8333  0.8933           0.8733  0.8967         0.8867\n",
            "PRECISION                 0.8284            0.8208  0.8833           0.8627  0.8861         0.8807\n",
            "RECALL                    0.8082            0.8231  0.8912           0.8679  0.8975         0.8747\n",
            "F1                        0.816             0.8219  0.8868           0.8651  0.8909         0.8775\n",
            "ROC                       0.8082            0.8231  0.8912           0.8679  0.8975         0.8747\n",
            "MSE                       0.1667            0.1667  0.1067           0.1267  0.1033         0.1133\n",
            "MAE                       0.1667            0.1667  0.1067           0.1267  0.1033         0.1133\n"
          ]
        }
      ]
    },
    {
      "cell_type": "markdown",
      "source": [],
      "metadata": {
        "id": "HnfvWLyFzV1O"
      }
    },
    {
      "cell_type": "markdown",
      "metadata": {
        "id": "cgweTaJ67BOB"
      },
      "source": [
        "# Evaluar los Algoritmos con el conjunto de TEST"
      ]
    },
    {
      "cell_type": "code",
      "metadata": {
        "id": "HS-M9s587Kj3",
        "colab": {
          "base_uri": "https://localhost:8080/"
        },
        "outputId": "65d94925-96e2-4894-a7e1-c047fc156918"
      },
      "source": [
        "headers = ['METRICS']\n",
        "ACC,PREC,RECALL,F1,ROC,MSE,MAE = ['ACCURACY'],['PRECISION'],['RECALL'],['F1'],['ROC'],['MSE'],['MAE']\n",
        "for nombre, alg in algoritmos.items():\n",
        "    y_pred = alg.fit(X_train, y_train).predict(X_test)\n",
        "    results = evaluacion(y_test, y_pred, metricas)\n",
        "    headers.append(nombre)\n",
        "    ACC.append(results['ACC'])\n",
        "    PREC.append(results['PREC'])\n",
        "    RECALL.append(results['RECALL'])\n",
        "    F1.append(results['F1'])\n",
        "    ROC.append(results['ROC'])\n",
        "    MSE.append(results['MSE'])\n",
        "    MAE.append(results['MAE'])\n",
        "\n",
        "my_data = [tuple(ACC), tuple(PREC), tuple(RECALL), tuple(F1), tuple(ROC), tuple(MSE), tuple(MAE)]\n",
        "print(tabulate(my_data, headers=headers))"
      ],
      "execution_count": null,
      "outputs": [
        {
          "output_type": "stream",
          "name": "stdout",
          "text": [
            "METRICS      Logistic Regression    Descition Tree     SVM    Random Forest     KNN    Naive Bayes\n",
            "---------  ---------------------  ----------------  ------  ---------------  ------  -------------\n",
            "ACCURACY                  0.89              0.91    0.93             0.92    0.93           0.9\n",
            "PRECISION                 0.8896            0.8912  0.917            0.9037  0.917          0.8978\n",
            "RECALL                    0.8529            0.909   0.9237           0.9164  0.9237         0.8686\n",
            "F1                        0.8678            0.899   0.9202           0.9095  0.9202         0.881\n",
            "ROC                       0.8529            0.909   0.9237           0.9164  0.9237         0.8686\n",
            "MSE                       0.11              0.09    0.07             0.08    0.07           0.1\n",
            "MAE                       0.11              0.09    0.07             0.08    0.07           0.1\n"
          ]
        }
      ]
    },
    {
      "cell_type": "markdown",
      "metadata": {
        "id": "JnMLSqzW8NH7"
      },
      "source": [
        "# Elaborar una matriz de confusión"
      ]
    },
    {
      "cell_type": "markdown",
      "metadata": {
        "id": "nE_qYTapfoDR"
      },
      "source": [
        "METRICAS\n",
        "\n",
        "ACURACY\n",
        "\n",
        "![Machine-Learning-Accuracy[1].png](https://sitiobigdata.com/wp-content/uploads/2019/01/Machine-Learning-Accuracy.png)\n",
        "\n",
        "MSE\n",
        "\n",
        "![Machine-Learning-MSE[1].png](https://cdn-media-1.freecodecamp.org/images/hmZydSW9YegiMVPWq2JBpOpai3CejzQpGkNG)\n",
        "\n",
        "MAE\n",
        "\n",
        "![Machine-Learning-MAE[1].png](https://www.easycalculation.com/maths-dictionary/images/mean-absolute-error.png)\n",
        "\n",
        "\n"
      ]
    }
  ]
}